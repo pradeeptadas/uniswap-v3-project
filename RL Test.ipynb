{
 "cells": [
  {
   "cell_type": "code",
   "execution_count": 1,
   "id": "0d7dc235",
   "metadata": {
    "scrolled": true
   },
   "outputs": [],
   "source": [
    "import numpy as np\n",
    "from scipy import stats\n",
    "import torch\n",
    "import torch.optim as optim\n",
    "import multiprocessing as mp\n",
    "import logging\n",
    "from datetime import datetime\n",
    "\n",
    "from uniswapv3_simulator.pool import Uniswapv3Pool\n",
    "from uniswapv3_simulator.optimization.environments import OneStepEnvironment, ScaleWrapper\n",
    "from uniswapv3_simulator.optimization.ddpg.ddpg import (\n",
    "    DDPG,\n",
    "    DDPGTrainer,\n",
    "    DeepActorModel,\n",
    "    TrainArgs\n",
    ")\n",
    "from uniswapv3_simulator.optimization.ddpg.exploration_noise import GaussianProcess\n",
    "from uniswapv3_simulator.optimization.ddpg.schedulers import ExponentialScheduler\n",
    "\n",
    "timestamp = datetime.now().strftime('%y%m%d%H%M%S')\n",
    "logging.basicConfig(\n",
    "    level=logging.INFO,\n",
    "    filename=f'./logs/rl_test_{timestamp}.log'\n",
    ")\n",
    "logging.getLogger('optimization').setLevel(logging.DEBUG)"
   ]
  },
  {
   "cell_type": "code",
   "execution_count": 2,
   "id": "a012e9ff",
   "metadata": {},
   "outputs": [],
   "source": [
    "SEED = 1234\n",
    "seed_seq = np.random.SeedSequence(entropy=SEED)\n",
    "seeds = seed_seq.generate_state(8)\n",
    "\n",
    "init_price = 100\n",
    "liquidity_bins = [70, 80, 90, 100, 110, 120, 130]\n",
    "\n",
    "fees = stats.uniform(1e-4, 0.01 - 1e-4)\n",
    "mu = stats.uniform(-0.05, 0.1)\n",
    "sigma = stats.uniform(1e-4, 0.1 - 1e-4) \n",
    "alpha = stats.randint(1, 100 + 1)\n",
    "beta = stats.randint(100, 1000 + 1)\n",
    "\n",
    "fees.random_state = seeds[0]\n",
    "mu.random_state = seeds[1]\n",
    "sigma.random_state = seeds[2]\n",
    "alpha.random_state = seeds[3]\n",
    "beta.random_state = seeds[4]\n",
    "\n",
    "n_sims_per_step = 500\n",
    "n_jobs = mp.cpu_count() - 1\n",
    "\n",
    "env = OneStepEnvironment(\n",
    "    init_price, liquidity_bins,\n",
    "    fees, mu, sigma, alpha, beta,\n",
    "    n_sims_per_step=n_sims_per_step, \n",
    "    n_jobs=n_jobs, seed=seeds[5]\n",
    ")"
   ]
  },
  {
   "cell_type": "code",
   "execution_count": 3,
   "id": "37f3b3e5",
   "metadata": {},
   "outputs": [
    {
     "name": "stdout",
     "output_type": "stream",
     "text": [
      "Random Variables\n",
      "fees:  mean=0.0051, std=0.0029\n",
      "mu:    mean=0.0000, std=0.0289\n",
      "sigma: mean=0.0501, std=0.0288\n",
      "alpha: mean=50.50, std=28.87\n",
      "beta:  mean=550.00, std=260.10\n"
     ]
    }
   ],
   "source": [
    "print('Random Variables')\n",
    "print(f'fees:  mean={fees.mean():,.4f}, std={fees.std():,.4f}')\n",
    "print(f'mu:    mean={mu.mean():,.4f}, std={mu.std():,.4f}')\n",
    "print(f'sigma: mean={sigma.mean():,.4f}, std={sigma.std():,.4f}')\n",
    "print(f'alpha: mean={alpha.mean():,.2f}, std={alpha.std():,.2f}')\n",
    "print(f'beta:  mean={beta.mean():,.2f}, std={beta.std():,.2f}')"
   ]
  },
  {
   "cell_type": "code",
   "execution_count": 4,
   "id": "4c1ce699",
   "metadata": {},
   "outputs": [],
   "source": [
    "def obs_scale_fn(obs):\n",
    "    mu = np.array([0.025, 0.0, 0.0501, 50.50, 550.0])\n",
    "    sigma = np.array([0.144, 0.0289, 0.0288, 28.87, 260.10])\n",
    "    \n",
    "    return (obs - mu) / sigma\n",
    "\n",
    "def action_scale_fn(action):\n",
    "    return action * 1e+5\n",
    "\n",
    "def reward_scale_fn(reward):\n",
    "    return reward\n",
    "\n",
    "env = ScaleWrapper(env, obs_scale_fn, action_scale_fn, reward_scale_fn)"
   ]
  },
  {
   "cell_type": "code",
   "execution_count": 5,
   "id": "f7c90fb7",
   "metadata": {},
   "outputs": [],
   "source": [
    "torch.manual_seed(seeds[6])\n",
    "action_size = len(liquidity_bins) - 1\n",
    "model = DeepActorModel(5, action_size, (128, 64), (128, 64))\n",
    "agent = DDPG(\n",
    "    model=model,\n",
    "    gamma=0.99,\n",
    "    tau=1e-3,\n",
    "    optimizer=optim.Adam,\n",
    "    actor_optimizer_kwargs={\n",
    "        'lr': 1e-4,\n",
    "        'weight_decay': 1e-5\n",
    "    },\n",
    "    critic_optimizer_kwargs={\n",
    "        'lr': 1e-3,\n",
    "        'weight_decay': 1e-5\n",
    "    },\n",
    "    clip_gradients=5.0\n",
    ")\n",
    "train_args = TrainArgs(\n",
    "    train_steps=5000,\n",
    "    batch_size=64, \n",
    "    memory_size=100000,\n",
    "    exploration_noise=GaussianProcess,\n",
    "    noise_kwargs={\n",
    "        'size': (action_size, ), \n",
    "        'std': ExponentialScheduler(0.2, 0.01, 0.9995)\n",
    "    },\n",
    "    update_start=200,\n",
    "    update_freq=4,\n",
    "    clip_actions=(1e-6, np.inf),\n",
    "    seed=seeds[7]\n",
    ")\n",
    "trainer = DDPGTrainer(agent, env, train_args)"
   ]
  },
  {
   "cell_type": "code",
   "execution_count": 6,
   "id": "1f60c365",
   "metadata": {},
   "outputs": [
    {
     "data": {
      "text/plain": [
       "DeepActorModel(\n",
       "  (critic_layers): Sequential(\n",
       "    (0): Linear(in_features=11, out_features=128, bias=True)\n",
       "    (1): ReLU()\n",
       "    (2): Linear(in_features=128, out_features=64, bias=True)\n",
       "    (3): ReLU()\n",
       "    (4): Linear(in_features=64, out_features=1, bias=True)\n",
       "  )\n",
       "  (actor_layers): Sequential(\n",
       "    (0): Linear(in_features=5, out_features=128, bias=True)\n",
       "    (1): ReLU()\n",
       "    (2): Linear(in_features=128, out_features=64, bias=True)\n",
       "    (3): ReLU()\n",
       "    (4): Linear(in_features=64, out_features=6, bias=True)\n",
       "  )\n",
       ")"
      ]
     },
     "execution_count": 6,
     "metadata": {},
     "output_type": "execute_result"
    }
   ],
   "source": [
    "model"
   ]
  },
  {
   "cell_type": "code",
   "execution_count": null,
   "id": "57e791c3",
   "metadata": {
    "scrolled": true
   },
   "outputs": [
    {
     "name": "stderr",
     "output_type": "stream",
     "text": [
      "/Users/pspalding/Desktop/Phil/MFE/Courses/AFP/uniswap-v3-project/uniswapv3_simulator/optimization/traders.py:66: RuntimeWarning: invalid value encountered in sqrt\n",
      "  return (-alpha + np.sqrt((alpha + beta * q0) ** 2 + 2 * beta * dy)) / beta\n",
      "/Users/pspalding/Desktop/Phil/MFE/Courses/AFP/uniswap-v3-project/uniswapv3_simulator/optimization/traders.py:66: RuntimeWarning: invalid value encountered in sqrt\n",
      "  return (-alpha + np.sqrt((alpha + beta * q0) ** 2 + 2 * beta * dy)) / beta\n",
      "/Users/pspalding/Desktop/Phil/MFE/Courses/AFP/uniswap-v3-project/uniswapv3_simulator/optimization/traders.py:66: RuntimeWarning: invalid value encountered in sqrt\n",
      "  return (-alpha + np.sqrt((alpha + beta * q0) ** 2 + 2 * beta * dy)) / beta\n",
      "/Users/pspalding/Desktop/Phil/MFE/Courses/AFP/uniswap-v3-project/uniswapv3_simulator/optimization/traders.py:66: RuntimeWarning: invalid value encountered in sqrt\n",
      "  return (-alpha + np.sqrt((alpha + beta * q0) ** 2 + 2 * beta * dy)) / beta\n",
      "/Users/pspalding/Desktop/Phil/MFE/Courses/AFP/uniswap-v3-project/uniswapv3_simulator/optimization/traders.py:66: RuntimeWarning: invalid value encountered in sqrt\n",
      "  return (-alpha + np.sqrt((alpha + beta * q0) ** 2 + 2 * beta * dy)) / beta\n",
      "/Users/pspalding/Desktop/Phil/MFE/Courses/AFP/uniswap-v3-project/uniswapv3_simulator/optimization/traders.py:66: RuntimeWarning: invalid value encountered in sqrt\n",
      "  return (-alpha + np.sqrt((alpha + beta * q0) ** 2 + 2 * beta * dy)) / beta\n",
      "/Users/pspalding/Desktop/Phil/MFE/Courses/AFP/uniswap-v3-project/uniswapv3_simulator/optimization/traders.py:66: RuntimeWarning: invalid value encountered in sqrt\n",
      "  return (-alpha + np.sqrt((alpha + beta * q0) ** 2 + 2 * beta * dy)) / beta\n"
     ]
    },
    {
     "name": "stdout",
     "output_type": "stream",
     "text": [
      "Episode:    50 | Mean Score: -0.013091\n"
     ]
    },
    {
     "name": "stderr",
     "output_type": "stream",
     "text": [
      "/Users/pspalding/Desktop/Phil/MFE/Courses/AFP/uniswap-v3-project/uniswapv3_simulator/optimization/traders.py:66: RuntimeWarning: invalid value encountered in sqrt\n",
      "  return (-alpha + np.sqrt((alpha + beta * q0) ** 2 + 2 * beta * dy)) / beta\n",
      "/Users/pspalding/Desktop/Phil/MFE/Courses/AFP/uniswap-v3-project/uniswapv3_simulator/optimization/traders.py:66: RuntimeWarning: invalid value encountered in sqrt\n",
      "  return (-alpha + np.sqrt((alpha + beta * q0) ** 2 + 2 * beta * dy)) / beta\n",
      "/Users/pspalding/Desktop/Phil/MFE/Courses/AFP/uniswap-v3-project/uniswapv3_simulator/optimization/traders.py:66: RuntimeWarning: invalid value encountered in sqrt\n",
      "  return (-alpha + np.sqrt((alpha + beta * q0) ** 2 + 2 * beta * dy)) / beta\n",
      "/Users/pspalding/Desktop/Phil/MFE/Courses/AFP/uniswap-v3-project/uniswapv3_simulator/optimization/traders.py:66: RuntimeWarning: invalid value encountered in sqrt\n",
      "  return (-alpha + np.sqrt((alpha + beta * q0) ** 2 + 2 * beta * dy)) / beta\n",
      "/Users/pspalding/Desktop/Phil/MFE/Courses/AFP/uniswap-v3-project/uniswapv3_simulator/optimization/traders.py:66: RuntimeWarning: invalid value encountered in sqrt\n",
      "  return (-alpha + np.sqrt((alpha + beta * q0) ** 2 + 2 * beta * dy)) / beta\n",
      "/Users/pspalding/Desktop/Phil/MFE/Courses/AFP/uniswap-v3-project/uniswapv3_simulator/optimization/traders.py:66: RuntimeWarning: invalid value encountered in sqrt\n",
      "  return (-alpha + np.sqrt((alpha + beta * q0) ** 2 + 2 * beta * dy)) / beta\n",
      "/Users/pspalding/Desktop/Phil/MFE/Courses/AFP/uniswap-v3-project/uniswapv3_simulator/optimization/traders.py:66: RuntimeWarning: invalid value encountered in sqrt\n",
      "  return (-alpha + np.sqrt((alpha + beta * q0) ** 2 + 2 * beta * dy)) / beta\n"
     ]
    },
    {
     "name": "stdout",
     "output_type": "stream",
     "text": [
      "Episode:   100 | Mean Score: -0.012204\n",
      "Episode:   150 | Mean Score: -0.012452\n"
     ]
    },
    {
     "name": "stderr",
     "output_type": "stream",
     "text": [
      "/Users/pspalding/Desktop/Phil/MFE/Courses/AFP/uniswap-v3-project/uniswapv3_simulator/optimization/traders.py:66: RuntimeWarning: invalid value encountered in sqrt\n",
      "  return (-alpha + np.sqrt((alpha + beta * q0) ** 2 + 2 * beta * dy)) / beta\n",
      "/Users/pspalding/Desktop/Phil/MFE/Courses/AFP/uniswap-v3-project/uniswapv3_simulator/optimization/traders.py:66: RuntimeWarning: invalid value encountered in sqrt\n",
      "  return (-alpha + np.sqrt((alpha + beta * q0) ** 2 + 2 * beta * dy)) / beta\n"
     ]
    },
    {
     "name": "stdout",
     "output_type": "stream",
     "text": [
      "Episode:   200 | Mean Score: -0.010770\n",
      "Episode:   250 | Mean Score: -0.012155\n"
     ]
    },
    {
     "name": "stderr",
     "output_type": "stream",
     "text": [
      "/Users/pspalding/Desktop/Phil/MFE/Courses/AFP/uniswap-v3-project/uniswapv3_simulator/optimization/traders.py:66: RuntimeWarning: invalid value encountered in sqrt\n",
      "  return (-alpha + np.sqrt((alpha + beta * q0) ** 2 + 2 * beta * dy)) / beta\n",
      "/Users/pspalding/Desktop/Phil/MFE/Courses/AFP/uniswap-v3-project/uniswapv3_simulator/optimization/traders.py:66: RuntimeWarning: invalid value encountered in sqrt\n",
      "  return (-alpha + np.sqrt((alpha + beta * q0) ** 2 + 2 * beta * dy)) / beta\n",
      "/Users/pspalding/Desktop/Phil/MFE/Courses/AFP/uniswap-v3-project/uniswapv3_simulator/optimization/traders.py:66: RuntimeWarning: invalid value encountered in sqrt\n",
      "  return (-alpha + np.sqrt((alpha + beta * q0) ** 2 + 2 * beta * dy)) / beta\n",
      "/Users/pspalding/Desktop/Phil/MFE/Courses/AFP/uniswap-v3-project/uniswapv3_simulator/optimization/traders.py:66: RuntimeWarning: invalid value encountered in sqrt\n",
      "  return (-alpha + np.sqrt((alpha + beta * q0) ** 2 + 2 * beta * dy)) / beta\n",
      "/Users/pspalding/Desktop/Phil/MFE/Courses/AFP/uniswap-v3-project/uniswapv3_simulator/optimization/traders.py:66: RuntimeWarning: invalid value encountered in sqrt\n",
      "  return (-alpha + np.sqrt((alpha + beta * q0) ** 2 + 2 * beta * dy)) / beta\n",
      "/Users/pspalding/Desktop/Phil/MFE/Courses/AFP/uniswap-v3-project/uniswapv3_simulator/optimization/traders.py:66: RuntimeWarning: invalid value encountered in sqrt\n",
      "  return (-alpha + np.sqrt((alpha + beta * q0) ** 2 + 2 * beta * dy)) / beta\n",
      "/Users/pspalding/Desktop/Phil/MFE/Courses/AFP/uniswap-v3-project/uniswapv3_simulator/optimization/traders.py:66: RuntimeWarning: invalid value encountered in sqrt\n",
      "  return (-alpha + np.sqrt((alpha + beta * q0) ** 2 + 2 * beta * dy)) / beta\n"
     ]
    },
    {
     "name": "stdout",
     "output_type": "stream",
     "text": [
      "Episode:   300 | Mean Score: -0.011506\n"
     ]
    },
    {
     "name": "stderr",
     "output_type": "stream",
     "text": [
      "/Users/pspalding/Desktop/Phil/MFE/Courses/AFP/uniswap-v3-project/uniswapv3_simulator/optimization/traders.py:66: RuntimeWarning: invalid value encountered in sqrt\n",
      "  return (-alpha + np.sqrt((alpha + beta * q0) ** 2 + 2 * beta * dy)) / beta\n",
      "/Users/pspalding/Desktop/Phil/MFE/Courses/AFP/uniswap-v3-project/uniswapv3_simulator/optimization/traders.py:66: RuntimeWarning: invalid value encountered in sqrt\n",
      "  return (-alpha + np.sqrt((alpha + beta * q0) ** 2 + 2 * beta * dy)) / beta\n",
      "/Users/pspalding/Desktop/Phil/MFE/Courses/AFP/uniswap-v3-project/uniswapv3_simulator/optimization/traders.py:66: RuntimeWarning: invalid value encountered in sqrt\n",
      "  return (-alpha + np.sqrt((alpha + beta * q0) ** 2 + 2 * beta * dy)) / beta\n",
      "/Users/pspalding/Desktop/Phil/MFE/Courses/AFP/uniswap-v3-project/uniswapv3_simulator/optimization/traders.py:66: RuntimeWarning: invalid value encountered in sqrt\n",
      "  return (-alpha + np.sqrt((alpha + beta * q0) ** 2 + 2 * beta * dy)) / beta\n",
      "/Users/pspalding/Desktop/Phil/MFE/Courses/AFP/uniswap-v3-project/uniswapv3_simulator/optimization/traders.py:66: RuntimeWarning: invalid value encountered in sqrt\n",
      "  return (-alpha + np.sqrt((alpha + beta * q0) ** 2 + 2 * beta * dy)) / beta\n",
      "/Users/pspalding/Desktop/Phil/MFE/Courses/AFP/uniswap-v3-project/uniswapv3_simulator/optimization/traders.py:66: RuntimeWarning: invalid value encountered in sqrt\n",
      "  return (-alpha + np.sqrt((alpha + beta * q0) ** 2 + 2 * beta * dy)) / beta\n",
      "/Users/pspalding/Desktop/Phil/MFE/Courses/AFP/uniswap-v3-project/uniswapv3_simulator/optimization/traders.py:66: RuntimeWarning: invalid value encountered in sqrt\n",
      "  return (-alpha + np.sqrt((alpha + beta * q0) ** 2 + 2 * beta * dy)) / beta\n",
      "/Users/pspalding/Desktop/Phil/MFE/Courses/AFP/uniswap-v3-project/uniswapv3_simulator/optimization/traders.py:66: RuntimeWarning: invalid value encountered in sqrt\n",
      "  return (-alpha + np.sqrt((alpha + beta * q0) ** 2 + 2 * beta * dy)) / beta\n"
     ]
    },
    {
     "name": "stdout",
     "output_type": "stream",
     "text": [
      "Episode:   350 | Mean Score: -0.012285\n"
     ]
    },
    {
     "name": "stderr",
     "output_type": "stream",
     "text": [
      "/Users/pspalding/Desktop/Phil/MFE/Courses/AFP/uniswap-v3-project/uniswapv3_simulator/optimization/traders.py:66: RuntimeWarning: invalid value encountered in sqrt\n",
      "  return (-alpha + np.sqrt((alpha + beta * q0) ** 2 + 2 * beta * dy)) / beta\n",
      "/Users/pspalding/Desktop/Phil/MFE/Courses/AFP/uniswap-v3-project/uniswapv3_simulator/optimization/traders.py:66: RuntimeWarning: invalid value encountered in sqrt\n",
      "  return (-alpha + np.sqrt((alpha + beta * q0) ** 2 + 2 * beta * dy)) / beta\n",
      "/Users/pspalding/Desktop/Phil/MFE/Courses/AFP/uniswap-v3-project/uniswapv3_simulator/optimization/traders.py:66: RuntimeWarning: invalid value encountered in sqrt\n",
      "  return (-alpha + np.sqrt((alpha + beta * q0) ** 2 + 2 * beta * dy)) / beta\n",
      "/Users/pspalding/Desktop/Phil/MFE/Courses/AFP/uniswap-v3-project/uniswapv3_simulator/optimization/traders.py:66: RuntimeWarning: invalid value encountered in sqrt\n",
      "  return (-alpha + np.sqrt((alpha + beta * q0) ** 2 + 2 * beta * dy)) / beta\n",
      "/Users/pspalding/Desktop/Phil/MFE/Courses/AFP/uniswap-v3-project/uniswapv3_simulator/optimization/traders.py:66: RuntimeWarning: invalid value encountered in sqrt\n",
      "  return (-alpha + np.sqrt((alpha + beta * q0) ** 2 + 2 * beta * dy)) / beta\n",
      "/Users/pspalding/Desktop/Phil/MFE/Courses/AFP/uniswap-v3-project/uniswapv3_simulator/optimization/traders.py:66: RuntimeWarning: invalid value encountered in sqrt\n",
      "  return (-alpha + np.sqrt((alpha + beta * q0) ** 2 + 2 * beta * dy)) / beta\n",
      "/Users/pspalding/Desktop/Phil/MFE/Courses/AFP/uniswap-v3-project/uniswapv3_simulator/optimization/traders.py:66: RuntimeWarning: invalid value encountered in sqrt\n",
      "  return (-alpha + np.sqrt((alpha + beta * q0) ** 2 + 2 * beta * dy)) / beta\n",
      "/Users/pspalding/Desktop/Phil/MFE/Courses/AFP/uniswap-v3-project/uniswapv3_simulator/optimization/traders.py:66: RuntimeWarning: invalid value encountered in sqrt\n",
      "  return (-alpha + np.sqrt((alpha + beta * q0) ** 2 + 2 * beta * dy)) / beta\n",
      "/Users/pspalding/Desktop/Phil/MFE/Courses/AFP/uniswap-v3-project/uniswapv3_simulator/optimization/traders.py:66: RuntimeWarning: invalid value encountered in sqrt\n",
      "  return (-alpha + np.sqrt((alpha + beta * q0) ** 2 + 2 * beta * dy)) / beta\n",
      "/Users/pspalding/Desktop/Phil/MFE/Courses/AFP/uniswap-v3-project/uniswapv3_simulator/optimization/traders.py:66: RuntimeWarning: invalid value encountered in sqrt\n",
      "  return (-alpha + np.sqrt((alpha + beta * q0) ** 2 + 2 * beta * dy)) / beta\n",
      "/Users/pspalding/Desktop/Phil/MFE/Courses/AFP/uniswap-v3-project/uniswapv3_simulator/optimization/traders.py:66: RuntimeWarning: invalid value encountered in sqrt\n",
      "  return (-alpha + np.sqrt((alpha + beta * q0) ** 2 + 2 * beta * dy)) / beta\n",
      "/Users/pspalding/Desktop/Phil/MFE/Courses/AFP/uniswap-v3-project/uniswapv3_simulator/optimization/traders.py:66: RuntimeWarning: invalid value encountered in sqrt\n",
      "  return (-alpha + np.sqrt((alpha + beta * q0) ** 2 + 2 * beta * dy)) / beta\n",
      "/Users/pspalding/Desktop/Phil/MFE/Courses/AFP/uniswap-v3-project/uniswapv3_simulator/optimization/traders.py:66: RuntimeWarning: invalid value encountered in sqrt\n",
      "  return (-alpha + np.sqrt((alpha + beta * q0) ** 2 + 2 * beta * dy)) / beta\n",
      "/Users/pspalding/Desktop/Phil/MFE/Courses/AFP/uniswap-v3-project/uniswapv3_simulator/optimization/traders.py:66: RuntimeWarning: invalid value encountered in sqrt\n",
      "  return (-alpha + np.sqrt((alpha + beta * q0) ** 2 + 2 * beta * dy)) / beta\n"
     ]
    },
    {
     "name": "stdout",
     "output_type": "stream",
     "text": [
      "Episode:   400 | Mean Score: -0.012537\n"
     ]
    },
    {
     "name": "stderr",
     "output_type": "stream",
     "text": [
      "/Users/pspalding/Desktop/Phil/MFE/Courses/AFP/uniswap-v3-project/uniswapv3_simulator/optimization/traders.py:66: RuntimeWarning: invalid value encountered in sqrt\n",
      "  return (-alpha + np.sqrt((alpha + beta * q0) ** 2 + 2 * beta * dy)) / beta\n",
      "/Users/pspalding/Desktop/Phil/MFE/Courses/AFP/uniswap-v3-project/uniswapv3_simulator/optimization/traders.py:66: RuntimeWarning: invalid value encountered in sqrt\n",
      "  return (-alpha + np.sqrt((alpha + beta * q0) ** 2 + 2 * beta * dy)) / beta\n"
     ]
    },
    {
     "name": "stdout",
     "output_type": "stream",
     "text": [
      "Episode:   450 | Mean Score: -0.011857\n",
      "Episode:   500 | Mean Score: -0.010930\n"
     ]
    },
    {
     "name": "stderr",
     "output_type": "stream",
     "text": [
      "/Users/pspalding/Desktop/Phil/MFE/Courses/AFP/uniswap-v3-project/uniswapv3_simulator/optimization/traders.py:66: RuntimeWarning: invalid value encountered in sqrt\n",
      "  return (-alpha + np.sqrt((alpha + beta * q0) ** 2 + 2 * beta * dy)) / beta\n",
      "/Users/pspalding/Desktop/Phil/MFE/Courses/AFP/uniswap-v3-project/uniswapv3_simulator/optimization/traders.py:66: RuntimeWarning: invalid value encountered in sqrt\n",
      "  return (-alpha + np.sqrt((alpha + beta * q0) ** 2 + 2 * beta * dy)) / beta\n"
     ]
    },
    {
     "name": "stdout",
     "output_type": "stream",
     "text": [
      "Episode:   550 | Mean Score: -0.011942\n"
     ]
    },
    {
     "name": "stderr",
     "output_type": "stream",
     "text": [
      "/Users/pspalding/Desktop/Phil/MFE/Courses/AFP/uniswap-v3-project/uniswapv3_simulator/optimization/traders.py:66: RuntimeWarning: invalid value encountered in sqrt\n",
      "  return (-alpha + np.sqrt((alpha + beta * q0) ** 2 + 2 * beta * dy)) / beta\n",
      "/Users/pspalding/Desktop/Phil/MFE/Courses/AFP/uniswap-v3-project/uniswapv3_simulator/optimization/traders.py:66: RuntimeWarning: invalid value encountered in sqrt\n",
      "  return (-alpha + np.sqrt((alpha + beta * q0) ** 2 + 2 * beta * dy)) / beta\n",
      "/Users/pspalding/Desktop/Phil/MFE/Courses/AFP/uniswap-v3-project/uniswapv3_simulator/optimization/traders.py:66: RuntimeWarning: invalid value encountered in sqrt\n",
      "  return (-alpha + np.sqrt((alpha + beta * q0) ** 2 + 2 * beta * dy)) / beta\n",
      "/Users/pspalding/Desktop/Phil/MFE/Courses/AFP/uniswap-v3-project/uniswapv3_simulator/optimization/traders.py:66: RuntimeWarning: invalid value encountered in sqrt\n",
      "  return (-alpha + np.sqrt((alpha + beta * q0) ** 2 + 2 * beta * dy)) / beta\n",
      "/Users/pspalding/Desktop/Phil/MFE/Courses/AFP/uniswap-v3-project/uniswapv3_simulator/optimization/traders.py:66: RuntimeWarning: invalid value encountered in sqrt\n",
      "  return (-alpha + np.sqrt((alpha + beta * q0) ** 2 + 2 * beta * dy)) / beta\n",
      "/Users/pspalding/Desktop/Phil/MFE/Courses/AFP/uniswap-v3-project/uniswapv3_simulator/optimization/traders.py:66: RuntimeWarning: invalid value encountered in sqrt\n",
      "  return (-alpha + np.sqrt((alpha + beta * q0) ** 2 + 2 * beta * dy)) / beta\n",
      "/Users/pspalding/Desktop/Phil/MFE/Courses/AFP/uniswap-v3-project/uniswapv3_simulator/optimization/traders.py:66: RuntimeWarning: invalid value encountered in sqrt\n",
      "  return (-alpha + np.sqrt((alpha + beta * q0) ** 2 + 2 * beta * dy)) / beta\n",
      "/Users/pspalding/Desktop/Phil/MFE/Courses/AFP/uniswap-v3-project/uniswapv3_simulator/optimization/traders.py:66: RuntimeWarning: invalid value encountered in sqrt\n",
      "  return (-alpha + np.sqrt((alpha + beta * q0) ** 2 + 2 * beta * dy)) / beta\n"
     ]
    },
    {
     "name": "stdout",
     "output_type": "stream",
     "text": [
      "Episode:   600 | Mean Score: -0.013549\n"
     ]
    },
    {
     "name": "stderr",
     "output_type": "stream",
     "text": [
      "/Users/pspalding/Desktop/Phil/MFE/Courses/AFP/uniswap-v3-project/uniswapv3_simulator/optimization/traders.py:66: RuntimeWarning: invalid value encountered in sqrt\n",
      "  return (-alpha + np.sqrt((alpha + beta * q0) ** 2 + 2 * beta * dy)) / beta\n",
      "/Users/pspalding/Desktop/Phil/MFE/Courses/AFP/uniswap-v3-project/uniswapv3_simulator/optimization/traders.py:66: RuntimeWarning: invalid value encountered in sqrt\n",
      "  return (-alpha + np.sqrt((alpha + beta * q0) ** 2 + 2 * beta * dy)) / beta\n",
      "/Users/pspalding/Desktop/Phil/MFE/Courses/AFP/uniswap-v3-project/uniswapv3_simulator/optimization/traders.py:66: RuntimeWarning: invalid value encountered in sqrt\n",
      "  return (-alpha + np.sqrt((alpha + beta * q0) ** 2 + 2 * beta * dy)) / beta\n",
      "/Users/pspalding/Desktop/Phil/MFE/Courses/AFP/uniswap-v3-project/uniswapv3_simulator/optimization/traders.py:66: RuntimeWarning: invalid value encountered in sqrt\n",
      "  return (-alpha + np.sqrt((alpha + beta * q0) ** 2 + 2 * beta * dy)) / beta\n",
      "/Users/pspalding/Desktop/Phil/MFE/Courses/AFP/uniswap-v3-project/uniswapv3_simulator/optimization/traders.py:66: RuntimeWarning: invalid value encountered in sqrt\n",
      "  return (-alpha + np.sqrt((alpha + beta * q0) ** 2 + 2 * beta * dy)) / beta\n",
      "/Users/pspalding/Desktop/Phil/MFE/Courses/AFP/uniswap-v3-project/uniswapv3_simulator/optimization/traders.py:66: RuntimeWarning: invalid value encountered in sqrt\n",
      "  return (-alpha + np.sqrt((alpha + beta * q0) ** 2 + 2 * beta * dy)) / beta\n"
     ]
    },
    {
     "name": "stdout",
     "output_type": "stream",
     "text": [
      "Episode:   650 | Mean Score: -0.012262\n"
     ]
    },
    {
     "name": "stderr",
     "output_type": "stream",
     "text": [
      "/Users/pspalding/Desktop/Phil/MFE/Courses/AFP/uniswap-v3-project/uniswapv3_simulator/optimization/traders.py:66: RuntimeWarning: invalid value encountered in sqrt\n",
      "  return (-alpha + np.sqrt((alpha + beta * q0) ** 2 + 2 * beta * dy)) / beta\n",
      "/Users/pspalding/Desktop/Phil/MFE/Courses/AFP/uniswap-v3-project/uniswapv3_simulator/optimization/traders.py:66: RuntimeWarning: invalid value encountered in sqrt\n",
      "  return (-alpha + np.sqrt((alpha + beta * q0) ** 2 + 2 * beta * dy)) / beta\n",
      "/Users/pspalding/Desktop/Phil/MFE/Courses/AFP/uniswap-v3-project/uniswapv3_simulator/optimization/traders.py:66: RuntimeWarning: invalid value encountered in sqrt\n",
      "  return (-alpha + np.sqrt((alpha + beta * q0) ** 2 + 2 * beta * dy)) / beta\n",
      "/Users/pspalding/Desktop/Phil/MFE/Courses/AFP/uniswap-v3-project/uniswapv3_simulator/optimization/traders.py:66: RuntimeWarning: invalid value encountered in sqrt\n",
      "  return (-alpha + np.sqrt((alpha + beta * q0) ** 2 + 2 * beta * dy)) / beta\n",
      "/Users/pspalding/Desktop/Phil/MFE/Courses/AFP/uniswap-v3-project/uniswapv3_simulator/optimization/traders.py:66: RuntimeWarning: invalid value encountered in sqrt\n",
      "  return (-alpha + np.sqrt((alpha + beta * q0) ** 2 + 2 * beta * dy)) / beta\n",
      "/Users/pspalding/Desktop/Phil/MFE/Courses/AFP/uniswap-v3-project/uniswapv3_simulator/optimization/traders.py:66: RuntimeWarning: invalid value encountered in sqrt\n",
      "  return (-alpha + np.sqrt((alpha + beta * q0) ** 2 + 2 * beta * dy)) / beta\n",
      "/Users/pspalding/Desktop/Phil/MFE/Courses/AFP/uniswap-v3-project/uniswapv3_simulator/optimization/traders.py:66: RuntimeWarning: invalid value encountered in sqrt\n",
      "  return (-alpha + np.sqrt((alpha + beta * q0) ** 2 + 2 * beta * dy)) / beta\n",
      "/Users/pspalding/Desktop/Phil/MFE/Courses/AFP/uniswap-v3-project/uniswapv3_simulator/optimization/traders.py:66: RuntimeWarning: invalid value encountered in sqrt\n",
      "  return (-alpha + np.sqrt((alpha + beta * q0) ** 2 + 2 * beta * dy)) / beta\n",
      "/Users/pspalding/Desktop/Phil/MFE/Courses/AFP/uniswap-v3-project/uniswapv3_simulator/optimization/traders.py:66: RuntimeWarning: invalid value encountered in sqrt\n",
      "  return (-alpha + np.sqrt((alpha + beta * q0) ** 2 + 2 * beta * dy)) / beta\n",
      "/Users/pspalding/Desktop/Phil/MFE/Courses/AFP/uniswap-v3-project/uniswapv3_simulator/optimization/traders.py:66: RuntimeWarning: invalid value encountered in sqrt\n",
      "  return (-alpha + np.sqrt((alpha + beta * q0) ** 2 + 2 * beta * dy)) / beta\n",
      "/Users/pspalding/Desktop/Phil/MFE/Courses/AFP/uniswap-v3-project/uniswapv3_simulator/optimization/traders.py:66: RuntimeWarning: invalid value encountered in sqrt\n",
      "  return (-alpha + np.sqrt((alpha + beta * q0) ** 2 + 2 * beta * dy)) / beta\n",
      "/Users/pspalding/Desktop/Phil/MFE/Courses/AFP/uniswap-v3-project/uniswapv3_simulator/optimization/traders.py:66: RuntimeWarning: invalid value encountered in sqrt\n",
      "  return (-alpha + np.sqrt((alpha + beta * q0) ** 2 + 2 * beta * dy)) / beta\n",
      "/Users/pspalding/Desktop/Phil/MFE/Courses/AFP/uniswap-v3-project/uniswapv3_simulator/optimization/traders.py:66: RuntimeWarning: invalid value encountered in sqrt\n",
      "  return (-alpha + np.sqrt((alpha + beta * q0) ** 2 + 2 * beta * dy)) / beta\n",
      "/Users/pspalding/Desktop/Phil/MFE/Courses/AFP/uniswap-v3-project/uniswapv3_simulator/optimization/traders.py:66: RuntimeWarning: invalid value encountered in sqrt\n",
      "  return (-alpha + np.sqrt((alpha + beta * q0) ** 2 + 2 * beta * dy)) / beta\n",
      "/Users/pspalding/Desktop/Phil/MFE/Courses/AFP/uniswap-v3-project/uniswapv3_simulator/optimization/traders.py:66: RuntimeWarning: invalid value encountered in sqrt\n",
      "  return (-alpha + np.sqrt((alpha + beta * q0) ** 2 + 2 * beta * dy)) / beta\n"
     ]
    },
    {
     "name": "stdout",
     "output_type": "stream",
     "text": [
      "Episode:   700 | Mean Score: -0.011853\n",
      "Episode:   750 | Mean Score: -0.011544\n",
      "Episode:   800 | Mean Score: -0.012091\n"
     ]
    },
    {
     "name": "stderr",
     "output_type": "stream",
     "text": [
      "/Users/pspalding/Desktop/Phil/MFE/Courses/AFP/uniswap-v3-project/uniswapv3_simulator/optimization/traders.py:66: RuntimeWarning: invalid value encountered in sqrt\n",
      "  return (-alpha + np.sqrt((alpha + beta * q0) ** 2 + 2 * beta * dy)) / beta\n",
      "/Users/pspalding/Desktop/Phil/MFE/Courses/AFP/uniswap-v3-project/uniswapv3_simulator/optimization/traders.py:66: RuntimeWarning: invalid value encountered in sqrt\n",
      "  return (-alpha + np.sqrt((alpha + beta * q0) ** 2 + 2 * beta * dy)) / beta\n",
      "/Users/pspalding/Desktop/Phil/MFE/Courses/AFP/uniswap-v3-project/uniswapv3_simulator/optimization/traders.py:66: RuntimeWarning: invalid value encountered in sqrt\n",
      "  return (-alpha + np.sqrt((alpha + beta * q0) ** 2 + 2 * beta * dy)) / beta\n",
      "/Users/pspalding/Desktop/Phil/MFE/Courses/AFP/uniswap-v3-project/uniswapv3_simulator/optimization/traders.py:66: RuntimeWarning: invalid value encountered in sqrt\n",
      "  return (-alpha + np.sqrt((alpha + beta * q0) ** 2 + 2 * beta * dy)) / beta\n",
      "/Users/pspalding/Desktop/Phil/MFE/Courses/AFP/uniswap-v3-project/uniswapv3_simulator/optimization/traders.py:66: RuntimeWarning: invalid value encountered in sqrt\n",
      "  return (-alpha + np.sqrt((alpha + beta * q0) ** 2 + 2 * beta * dy)) / beta\n",
      "/Users/pspalding/Desktop/Phil/MFE/Courses/AFP/uniswap-v3-project/uniswapv3_simulator/optimization/traders.py:66: RuntimeWarning: invalid value encountered in sqrt\n",
      "  return (-alpha + np.sqrt((alpha + beta * q0) ** 2 + 2 * beta * dy)) / beta\n",
      "/Users/pspalding/Desktop/Phil/MFE/Courses/AFP/uniswap-v3-project/uniswapv3_simulator/optimization/traders.py:66: RuntimeWarning: invalid value encountered in sqrt\n",
      "  return (-alpha + np.sqrt((alpha + beta * q0) ** 2 + 2 * beta * dy)) / beta\n"
     ]
    },
    {
     "name": "stdout",
     "output_type": "stream",
     "text": [
      "Episode:   850 | Mean Score: -0.012939\n"
     ]
    },
    {
     "name": "stderr",
     "output_type": "stream",
     "text": [
      "/Users/pspalding/Desktop/Phil/MFE/Courses/AFP/uniswap-v3-project/uniswapv3_simulator/optimization/traders.py:66: RuntimeWarning: invalid value encountered in sqrt\n",
      "  return (-alpha + np.sqrt((alpha + beta * q0) ** 2 + 2 * beta * dy)) / beta\n",
      "/Users/pspalding/Desktop/Phil/MFE/Courses/AFP/uniswap-v3-project/uniswapv3_simulator/optimization/traders.py:66: RuntimeWarning: invalid value encountered in sqrt\n",
      "  return (-alpha + np.sqrt((alpha + beta * q0) ** 2 + 2 * beta * dy)) / beta\n"
     ]
    },
    {
     "name": "stdout",
     "output_type": "stream",
     "text": [
      "Episode:   900 | Mean Score: -0.011291\n"
     ]
    },
    {
     "name": "stderr",
     "output_type": "stream",
     "text": [
      "/Users/pspalding/Desktop/Phil/MFE/Courses/AFP/uniswap-v3-project/uniswapv3_simulator/optimization/traders.py:66: RuntimeWarning: invalid value encountered in sqrt\n",
      "  return (-alpha + np.sqrt((alpha + beta * q0) ** 2 + 2 * beta * dy)) / beta\n",
      "/Users/pspalding/Desktop/Phil/MFE/Courses/AFP/uniswap-v3-project/uniswapv3_simulator/optimization/traders.py:66: RuntimeWarning: invalid value encountered in sqrt\n",
      "  return (-alpha + np.sqrt((alpha + beta * q0) ** 2 + 2 * beta * dy)) / beta\n",
      "/Users/pspalding/Desktop/Phil/MFE/Courses/AFP/uniswap-v3-project/uniswapv3_simulator/optimization/traders.py:66: RuntimeWarning: invalid value encountered in sqrt\n",
      "  return (-alpha + np.sqrt((alpha + beta * q0) ** 2 + 2 * beta * dy)) / beta\n",
      "/Users/pspalding/Desktop/Phil/MFE/Courses/AFP/uniswap-v3-project/uniswapv3_simulator/optimization/traders.py:66: RuntimeWarning: invalid value encountered in sqrt\n",
      "  return (-alpha + np.sqrt((alpha + beta * q0) ** 2 + 2 * beta * dy)) / beta\n",
      "/Users/pspalding/Desktop/Phil/MFE/Courses/AFP/uniswap-v3-project/uniswapv3_simulator/optimization/traders.py:66: RuntimeWarning: invalid value encountered in sqrt\n",
      "  return (-alpha + np.sqrt((alpha + beta * q0) ** 2 + 2 * beta * dy)) / beta\n",
      "/Users/pspalding/Desktop/Phil/MFE/Courses/AFP/uniswap-v3-project/uniswapv3_simulator/optimization/traders.py:66: RuntimeWarning: invalid value encountered in sqrt\n",
      "  return (-alpha + np.sqrt((alpha + beta * q0) ** 2 + 2 * beta * dy)) / beta\n",
      "/Users/pspalding/Desktop/Phil/MFE/Courses/AFP/uniswap-v3-project/uniswapv3_simulator/optimization/traders.py:66: RuntimeWarning: invalid value encountered in sqrt\n",
      "  return (-alpha + np.sqrt((alpha + beta * q0) ** 2 + 2 * beta * dy)) / beta\n",
      "/Users/pspalding/Desktop/Phil/MFE/Courses/AFP/uniswap-v3-project/uniswapv3_simulator/optimization/traders.py:66: RuntimeWarning: invalid value encountered in sqrt\n",
      "  return (-alpha + np.sqrt((alpha + beta * q0) ** 2 + 2 * beta * dy)) / beta\n",
      "/Users/pspalding/Desktop/Phil/MFE/Courses/AFP/uniswap-v3-project/uniswapv3_simulator/optimization/traders.py:66: RuntimeWarning: invalid value encountered in sqrt\n",
      "  return (-alpha + np.sqrt((alpha + beta * q0) ** 2 + 2 * beta * dy)) / beta\n",
      "/Users/pspalding/Desktop/Phil/MFE/Courses/AFP/uniswap-v3-project/uniswapv3_simulator/optimization/traders.py:66: RuntimeWarning: invalid value encountered in sqrt\n",
      "  return (-alpha + np.sqrt((alpha + beta * q0) ** 2 + 2 * beta * dy)) / beta\n",
      "/Users/pspalding/Desktop/Phil/MFE/Courses/AFP/uniswap-v3-project/uniswapv3_simulator/optimization/traders.py:66: RuntimeWarning: invalid value encountered in sqrt\n",
      "  return (-alpha + np.sqrt((alpha + beta * q0) ** 2 + 2 * beta * dy)) / beta\n",
      "/Users/pspalding/Desktop/Phil/MFE/Courses/AFP/uniswap-v3-project/uniswapv3_simulator/optimization/traders.py:66: RuntimeWarning: invalid value encountered in sqrt\n",
      "  return (-alpha + np.sqrt((alpha + beta * q0) ** 2 + 2 * beta * dy)) / beta\n",
      "/Users/pspalding/Desktop/Phil/MFE/Courses/AFP/uniswap-v3-project/uniswapv3_simulator/optimization/traders.py:66: RuntimeWarning: invalid value encountered in sqrt\n",
      "  return (-alpha + np.sqrt((alpha + beta * q0) ** 2 + 2 * beta * dy)) / beta\n",
      "/Users/pspalding/Desktop/Phil/MFE/Courses/AFP/uniswap-v3-project/uniswapv3_simulator/optimization/traders.py:66: RuntimeWarning: invalid value encountered in sqrt\n",
      "  return (-alpha + np.sqrt((alpha + beta * q0) ** 2 + 2 * beta * dy)) / beta\n",
      "/Users/pspalding/Desktop/Phil/MFE/Courses/AFP/uniswap-v3-project/uniswapv3_simulator/optimization/traders.py:66: RuntimeWarning: invalid value encountered in sqrt\n",
      "  return (-alpha + np.sqrt((alpha + beta * q0) ** 2 + 2 * beta * dy)) / beta\n"
     ]
    },
    {
     "name": "stdout",
     "output_type": "stream",
     "text": [
      "Episode:   950 | Mean Score: -0.012548\n"
     ]
    },
    {
     "name": "stderr",
     "output_type": "stream",
     "text": [
      "/Users/pspalding/Desktop/Phil/MFE/Courses/AFP/uniswap-v3-project/uniswapv3_simulator/optimization/traders.py:66: RuntimeWarning: invalid value encountered in sqrt\n",
      "  return (-alpha + np.sqrt((alpha + beta * q0) ** 2 + 2 * beta * dy)) / beta\n",
      "/Users/pspalding/Desktop/Phil/MFE/Courses/AFP/uniswap-v3-project/uniswapv3_simulator/optimization/traders.py:66: RuntimeWarning: invalid value encountered in sqrt\n",
      "  return (-alpha + np.sqrt((alpha + beta * q0) ** 2 + 2 * beta * dy)) / beta\n",
      "/Users/pspalding/Desktop/Phil/MFE/Courses/AFP/uniswap-v3-project/uniswapv3_simulator/optimization/traders.py:66: RuntimeWarning: invalid value encountered in sqrt\n",
      "  return (-alpha + np.sqrt((alpha + beta * q0) ** 2 + 2 * beta * dy)) / beta\n",
      "/Users/pspalding/Desktop/Phil/MFE/Courses/AFP/uniswap-v3-project/uniswapv3_simulator/optimization/traders.py:66: RuntimeWarning: invalid value encountered in sqrt\n",
      "  return (-alpha + np.sqrt((alpha + beta * q0) ** 2 + 2 * beta * dy)) / beta\n",
      "/Users/pspalding/Desktop/Phil/MFE/Courses/AFP/uniswap-v3-project/uniswapv3_simulator/optimization/traders.py:66: RuntimeWarning: invalid value encountered in sqrt\n",
      "  return (-alpha + np.sqrt((alpha + beta * q0) ** 2 + 2 * beta * dy)) / beta\n",
      "/Users/pspalding/Desktop/Phil/MFE/Courses/AFP/uniswap-v3-project/uniswapv3_simulator/optimization/traders.py:66: RuntimeWarning: invalid value encountered in sqrt\n",
      "  return (-alpha + np.sqrt((alpha + beta * q0) ** 2 + 2 * beta * dy)) / beta\n",
      "/Users/pspalding/Desktop/Phil/MFE/Courses/AFP/uniswap-v3-project/uniswapv3_simulator/optimization/traders.py:66: RuntimeWarning: invalid value encountered in sqrt\n",
      "  return (-alpha + np.sqrt((alpha + beta * q0) ** 2 + 2 * beta * dy)) / beta\n",
      "/Users/pspalding/Desktop/Phil/MFE/Courses/AFP/uniswap-v3-project/uniswapv3_simulator/optimization/traders.py:66: RuntimeWarning: invalid value encountered in sqrt\n",
      "  return (-alpha + np.sqrt((alpha + beta * q0) ** 2 + 2 * beta * dy)) / beta\n"
     ]
    }
   ],
   "source": [
    "%%time\n",
    "rewards = trainer.train()"
   ]
  },
  {
   "cell_type": "code",
   "execution_count": null,
   "id": "da4a7a51",
   "metadata": {},
   "outputs": [],
   "source": []
  }
 ],
 "metadata": {
  "kernelspec": {
   "display_name": "RL Environment",
   "language": "python",
   "name": "rl_env"
  },
  "language_info": {
   "codemirror_mode": {
    "name": "ipython",
    "version": 3
   },
   "file_extension": ".py",
   "mimetype": "text/x-python",
   "name": "python",
   "nbconvert_exporter": "python",
   "pygments_lexer": "ipython3",
   "version": "3.9.7"
  }
 },
 "nbformat": 4,
 "nbformat_minor": 5
}
