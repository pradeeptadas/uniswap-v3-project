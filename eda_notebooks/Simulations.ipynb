{
 "cells": [
  {
   "cell_type": "code",
   "execution_count": 87,
   "id": "92dbe388-ecf8-49b3-95e2-0f73adcd6d2f",
   "metadata": {},
   "outputs": [],
   "source": [
    "import pandas as pd\n",
    "import numpy as np\n",
    "import logging\n",
    "import sys\n",
    "from datetime import datetime\n",
    "import plotly.express as px\n",
    "from plotly.subplots import make_subplots\n",
    "import plotly.graph_objects as go\n",
    "import scipy\n",
    "import copy\n",
    "from scipy.stats import skewnorm\n",
    "from random import expovariate\n",
    "\n",
    "# a little hacky, but works if you don't want to actually install the\n",
    "# custom packages \n",
    "sys.path.append('..')\n",
    "from uniswapv3_simulator.pool import Uniswapv3Pool\n",
    "from uniswapv3_simulator.utils import pool_init_price, solve_for_liquidity_delta\n",
    "from uniswapv3_simulator.math import tick_to_sqrt_price, sqrt_price_to_tick\n",
    "from utils import amount_to_float\n",
    "\n",
    "expt = 'simulation_v1'\n",
    "timestamp = datetime.now().strftime('%y%m%d%H%M%S')\n",
    "logging.basicConfig(level=logging.INFO,\n",
    "                    filename=f'./{expt}_{timestamp}.log',\n",
    "                    )\n",
    "logging.getLogger('uniswap-v3').setLevel(logging.DEBUG)\n",
    "logging.getLogger('covalent_api').setLevel(logging.DEBUG)\n",
    "\n",
    "logger = logging.getLogger('experiment')"
   ]
  },
  {
   "cell_type": "code",
   "execution_count": 89,
   "id": "69455e30-594f-46a8-83da-5bfa17ac2992",
   "metadata": {},
   "outputs": [],
   "source": [
    "from uniswapv3_simulator.utils import sqrt_price_to_tick\n",
    "from uniswapv3_simulator.tick import MAX_TICK, MIN_TICK\n",
    "\n",
    "init_price = 3088\n",
    "fee = 0.03\n",
    "budget = 10000\n",
    "num_ticks = 10000\n",
    "\n",
    "init_tick = sqrt_price_to_tick(np.sqrt(init_price))\n",
    "ticks = np.round(np.linspace(init_tick + 1, MAX_TICK, num_ticks), 0)"
   ]
  },
  {
   "cell_type": "code",
   "execution_count": 90,
   "id": "81d27ce8-afe3-4571-8d5f-b55bcdb3ca90",
   "metadata": {},
   "outputs": [],
   "source": [
    "def init_uniform_pool(fee, price, budget, tick_spacing = 1):\n",
    "    pool = Uniswapv3Pool(fee, tick_spacing, price)\n",
    "    pool.set_position('uniform', MIN_TICK, MAX_TICK, budget)\n",
    "    return pool"
   ]
  },
  {
   "cell_type": "code",
   "execution_count": 92,
   "id": "d4926b62-873b-4534-9922-27b281444f83",
   "metadata": {},
   "outputs": [],
   "source": [
    "_pool = init_uniform_pool(fee, init_price, budget, tick_spacing = 1)\n",
    "tick = ticks[0]\n",
    "txn_rate = 100\n",
    "alpha = 0.5\n",
    "num_sims = 10**5"
   ]
  },
  {
   "cell_type": "code",
   "execution_count": 118,
   "id": "32d6671e-de2a-4d34-88b7-de09022ce00d",
   "metadata": {},
   "outputs": [
    {
     "data": {
      "text/plain": [
       "(0.011728659863466606, 0.06196822719186202)"
      ]
     },
     "execution_count": 118,
     "metadata": {},
     "output_type": "execute_result"
    }
   ],
   "source": [
    "def simulate(_pool, tick, txn_rate, alpha, num_sims, budget, txn_modifier=60 * 60, mu=0, sigma=0.1):\n",
    "    \"\"\"\n",
    "        pool: already instantiated with Liquidity shape and depth\n",
    "        tick: p2 of the range we are considering, >= p\n",
    "        txn_rate: transactions per unit; i.e. 100 txn per hour requires txn_modifier = 60 * 60\n",
    "        alpha: number of arbs\n",
    "        budget: budget for liquidity\n",
    "        txn_modifier: factor to convert from txn units to seconds, 60 * 60 is for hours\n",
    "        \n",
    "        mu: drift for GBM\n",
    "        sigma: vol for GBM\n",
    "    \"\"\"\n",
    "    # copy pool object\n",
    "    pool = copy.deepcopy(_pool)\n",
    "    pool_tick = pool.tick\n",
    "    price = pool.sqrt_price ** 2\n",
    "    \n",
    "    p2 = tick\n",
    "    p1 = 2 * pool_tick - p2\n",
    "\n",
    "    # we have our symmetric range: (p1, p2) which surrounds the initial price\n",
    "    # now add our position\n",
    "    pool.set_position('target', p1, p2, budget)\n",
    "    fees = np.empty(num_sims)\n",
    "    for i in range(num_sims):\n",
    "        # draw arrival times\n",
    "        arrivals = np.random.exponential(1.0 / (txn_rate / txn_modifier), int(2.5 * txn_rate))\n",
    "        cumulative_arrival = np.cumsum(arrivals) / txn_modifier\n",
    "        arrivals = arrivals[cumulative_arrival <= 1.0] / txn_modifier\n",
    "        \n",
    "        for dt in arrivals:\n",
    "            u, n = np.random.uniform(), np.random.normal()\n",
    "            X = (mu - 0.5 * sigma ** 2)*dt + (sigma * np.sqrt(dt) * n)\n",
    "            new_price = price * np.exp(X)\n",
    "            if u < alpha:\n",
    "                # this is an arbitrage, trade to new price\n",
    "                price = new_price\n",
    "                pool.swap(price)\n",
    "            else:\n",
    "                # this is a liquidity trade, trade to new price and back\n",
    "                pool.swap(new_price)\n",
    "                pool.swap(price)\n",
    "        fees[i] = pool.get_position('target')\n",
    "    \n",
    "    return np.mean(fees), np.std(fees)\n",
    "    \n",
    "simulate(_pool, tick, txn_rate, alpha, num_sims, budget, txn_modifier=3600)"
   ]
  },
  {
   "cell_type": "code",
   "execution_count": null,
   "id": "bae53840-650f-4e31-954b-83d905e3554a",
   "metadata": {},
   "outputs": [],
   "source": []
  }
 ],
 "metadata": {
  "kernelspec": {
   "display_name": "Python 3 (ipykernel)",
   "language": "python",
   "name": "python3"
  },
  "language_info": {
   "codemirror_mode": {
    "name": "ipython",
    "version": 3
   },
   "file_extension": ".py",
   "mimetype": "text/x-python",
   "name": "python",
   "nbconvert_exporter": "python",
   "pygments_lexer": "ipython3",
   "version": "3.7.2"
  }
 },
 "nbformat": 4,
 "nbformat_minor": 5
}
